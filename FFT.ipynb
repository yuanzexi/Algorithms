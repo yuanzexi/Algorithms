{
 "cells": [
  {
   "cell_type": "code",
   "execution_count": 1,
   "metadata": {},
   "outputs": [],
   "source": [
    "import sys\n",
    "import math\n"
   ]
  },
  {
   "cell_type": "code",
   "execution_count": 91,
   "metadata": {},
   "outputs": [
    {
     "name": "stdout",
     "output_type": "stream",
     "text": [
      "97 32 19\n",
      "3 9 59 80 81 70 59 32 44 37 15 51 93 22 2 6 71 17 51 14 71 83 38 24 14 96 27 76 40 57 10 71\n"
     ]
    }
   ],
   "source": [
    "p,n,w = raw_input().strip().split(' ')\n",
    "p,n,w = [int(p),int(n),int(w)]\n",
    "a = map(int, raw_input().strip().split(' '))"
   ]
  },
  {
   "cell_type": "code",
   "execution_count": 118,
   "metadata": {},
   "outputs": [],
   "source": [
    "def bit_reverse(a, m):\n",
    "    b = 0\n",
    "    while m > 0:\n",
    "        b <<= 1\n",
    "        b |= (a & 1)\n",
    "        a >>= 1\n",
    "        m -= 1\n",
    "    return b\n",
    "def reverse(a):\n",
    "    m = int(math.log(len(a),2))\n",
    "    b = []\n",
    "    for i in range(len(a)):\n",
    "       # (\"{0:b}\".format(i))\n",
    "        x = int(\"{:0{width}b}\".format(i,width=m)[::-1],2)\n",
    "        b.append(a[x])\n",
    "    return b\n",
    "def printArr(a,p):\n",
    "    for i in range(len(a)):\n",
    "        print a[i] % p, \" \","
   ]
  },
  {
   "cell_type": "code",
   "execution_count": 119,
   "metadata": {},
   "outputs": [
    {
     "name": "stdout",
     "output_type": "stream",
     "text": [
      "[0, 16, 8, 24, 4, 20, 12, 28, 2, 18, 10, 26, 6, 22, 14, 30, 1, 17, 9, 25, 5, 21, 13, 29, 3, 19, 11, 27, 7, 23, 15, 31]\n"
     ]
    }
   ],
   "source": [
    "normal = range(32)\n",
    "# print reverse(normal)"
   ]
  },
  {
   "cell_type": "code",
   "execution_count": 134,
   "metadata": {},
   "outputs": [],
   "source": [
    "c = reverse(a)\n",
    "#print c"
   ]
  },
  {
   "cell_type": "code",
   "execution_count": 135,
   "metadata": {},
   "outputs": [
    {
     "name": "stdout",
     "output_type": "stream",
     "text": [
      "65   35   92   4   0   31   41   32   21   96   24   26   0   4   19   94   30   14   56   66   17   92   25   73   0   3   71   85   50   55   91   45  \n"
     ]
    }
   ],
   "source": [
    "s = int(math.log(n,2))\n",
    "#print \"s\",s\n",
    "for i in range(1,s+1):\n",
    "    m = int(math.pow(2,i))\n",
    "    for k in range(0,n,m):\n",
    "        w0 = 1\n",
    "        for j in range(m/2):\n",
    "#             printArr(c,p)\n",
    "#             print ''\n",
    "            t = w0 * c[k+j+m/2]\n",
    "            t2 = (p - w0) * c[k+j+m/2]\n",
    "            u = c[k+j]\n",
    "            c[k+j] = (u + t) % p\n",
    "            c[k+j+m/2] = (u + t2) % p \n",
    "            w0 = w0 * w % p\n",
    "            \n",
    "\n",
    "printArr(c,p)\n"
   ]
  },
  {
   "cell_type": "code",
   "execution_count": null,
   "metadata": {
    "collapsed": true
   },
   "outputs": [],
   "source": []
  }
 ],
 "metadata": {
  "kernelspec": {
   "display_name": "Python 2",
   "language": "python",
   "name": "python2"
  },
  "language_info": {
   "codemirror_mode": {
    "name": "ipython",
    "version": 2
   },
   "file_extension": ".py",
   "mimetype": "text/x-python",
   "name": "python",
   "nbconvert_exporter": "python",
   "pygments_lexer": "ipython2",
   "version": "2.7.13"
  }
 },
 "nbformat": 4,
 "nbformat_minor": 2
}
